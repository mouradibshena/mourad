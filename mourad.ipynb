{
  "metadata": {
    "kernelspec": {
      "name": "python",
      "display_name": "Python (Pyodide)",
      "language": "python"
    },
    "language_info": {
      "codemirror_mode": {
        "name": "python",
        "version": 3
      },
      "file_extension": ".py",
      "mimetype": "text/x-python",
      "name": "python",
      "nbconvert_exporter": "python",
      "pygments_lexer": "ipython3",
      "version": "3.8"
    }
  },
  "nbformat_minor": 4,
  "nbformat": 4,
  "cells": [
    {
      "cell_type": "code",
      "source": "# My Data Science Notebook\n## Introduction\nWelcome to my Data Science Notebook! In this notebook, I'll explore various data science languages, libraries, and tools.\n## Data Science Languages\n- Python\n- R\n- Julia\n## Data Science Libraries\n- Pandas\n- NumPy\n- Matplotlib\n- Seaborn\n## Data Science Tools\n\n| Tool         | Description           |\n|--------------|-----------------------|\n| Jupyter      | Interactive Notebooks |\n| TensorFlow   | Machine Learning      |\n| Scikit-learn | Machine Learning      |\n| Keras        | Deep Learning         |\n\n ## Arithmetic Expression Examples\nLet's explore some simple arithmetic examples using Python.\n\n# Multiply and add numbers\nx = 5\ny = 10\nmultiply_result = x * y\nadd_result = x + y\nmultiply_result, add_result\n# Convert minutes to hours\nminutes = 120\nhours = minutes / 60\nhours\n## Objectives\n- Learn about data science languages and libraries\n- Explore basic arithmetic operations in Python\n- Convert units of time from minutes to hours\n## Author\nmourad sleem ibshene\n    \n",
      "metadata": {
        "trusted": true
      },
      "outputs": [],
      "execution_count": null
    }
  ]
}